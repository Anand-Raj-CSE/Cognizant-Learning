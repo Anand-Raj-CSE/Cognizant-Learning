{
 "cells": [
  {
   "cell_type": "markdown",
   "id": "9841e484",
   "metadata": {},
   "source": [
    "# Series is an object of pandas"
   ]
  },
  {
   "cell_type": "code",
   "execution_count": 1,
   "id": "ae8d1160",
   "metadata": {},
   "outputs": [],
   "source": [
    "import pandas as pd"
   ]
  },
  {
   "cell_type": "code",
   "execution_count": 4,
   "id": "e3dab8a4",
   "metadata": {},
   "outputs": [
    {
     "data": {
      "text/plain": [
       "0      Chocolate\n",
       "1        Vanilla\n",
       "2     Strawberry\n",
       "3    Tooti fruti\n",
       "dtype: object"
      ]
     },
     "execution_count": 4,
     "metadata": {},
     "output_type": "execute_result"
    }
   ],
   "source": [
    "# Creating a series of list \n",
    "ice_cream = [\"Chocolate\",\"Vanilla\",\"Strawberry\",\"Tooti fruti\"]\n",
    "pd.Series(ice_cream) # remember S not s"
   ]
  },
  {
   "cell_type": "code",
   "execution_count": 6,
   "id": "ecc57f3e",
   "metadata": {},
   "outputs": [
    {
     "data": {
      "text/plain": [
       "0     1\n",
       "1     2\n",
       "2     3\n",
       "3     4\n",
       "4     5\n",
       "5     6\n",
       "6     7\n",
       "7     8\n",
       "8     9\n",
       "9    10\n",
       "dtype: int64"
      ]
     },
     "execution_count": 6,
     "metadata": {},
     "output_type": "execute_result"
    }
   ],
   "source": [
    "nums = [1,2,3,4,5,6,7,8,9,10]\n",
    "pd.Series(nums)"
   ]
  },
  {
   "cell_type": "code",
   "execution_count": 8,
   "id": "242b41c5",
   "metadata": {},
   "outputs": [
    {
     "data": {
      "text/plain": [
       "Aardvark    An Animal\n",
       "Banana        A Fruit\n",
       "Cyan            color\n",
       "dtype: object"
      ]
     },
     "execution_count": 8,
     "metadata": {},
     "output_type": "execute_result"
    }
   ],
   "source": [
    "# Using dictionaries as pandas series , here the index levels are replaced by the keys\n",
    "webster = {\"Aardvark\":\"An Animal\",\n",
    "            \"Banana\":\"A Fruit\",\n",
    "           \"Cyan\":\"color\"\n",
    "          }\n",
    "pd.Series(webster)"
   ]
  },
  {
   "cell_type": "code",
   "execution_count": 9,
   "id": "0846d5f2",
   "metadata": {},
   "outputs": [],
   "source": [
    "# Intro to Atribute\n",
    "about_me = [\"Smart\",\"Handsome\",\"Charming\",\"Brilliant\",\"Humble\"]\n",
    "abt_me = pd.Series(about_me)"
   ]
  },
  {
   "cell_type": "markdown",
   "id": "1d7a43a8",
   "metadata": {},
   "source": [
    "# Attributes does not need ()"
   ]
  },
  {
   "cell_type": "code",
   "execution_count": 14,
   "id": "dcaa1767",
   "metadata": {},
   "outputs": [
    {
     "data": {
      "text/plain": [
       "array(['Smart', 'Handsome', 'Charming', 'Brilliant', 'Humble'],\n",
       "      dtype=object)"
      ]
     },
     "execution_count": 14,
     "metadata": {},
     "output_type": "execute_result"
    }
   ],
   "source": [
    "abt_me.values"
   ]
  },
  {
   "cell_type": "code",
   "execution_count": 15,
   "id": "59a2f0b7",
   "metadata": {},
   "outputs": [
    {
     "data": {
      "text/plain": [
       "RangeIndex(start=0, stop=5, step=1)"
      ]
     },
     "execution_count": 15,
     "metadata": {},
     "output_type": "execute_result"
    }
   ],
   "source": [
    "abt_me.index"
   ]
  },
  {
   "cell_type": "code",
   "execution_count": 16,
   "id": "603c2e36",
   "metadata": {},
   "outputs": [],
   "source": [
    "# Methods that are availble in Series object"
   ]
  },
  {
   "cell_type": "code",
   "execution_count": 18,
   "id": "7088e1e3",
   "metadata": {},
   "outputs": [
    {
     "data": {
      "text/plain": [
       "5830.715999999999"
      ]
     },
     "execution_count": 18,
     "metadata": {},
     "output_type": "execute_result"
    }
   ],
   "source": [
    "prices = [56.23,5689.256,85.23]\n",
    "price = pd.Series(prices)\n",
    "price.sum()"
   ]
  },
  {
   "cell_type": "code",
   "execution_count": 19,
   "id": "0d135d0a",
   "metadata": {},
   "outputs": [
    {
     "data": {
      "text/plain": [
       "1943.572"
      ]
     },
     "execution_count": 19,
     "metadata": {},
     "output_type": "execute_result"
    }
   ],
   "source": [
    "price.mean()"
   ]
  },
  {
   "cell_type": "markdown",
   "id": "d595d4fc",
   "metadata": {},
   "source": [
    "## Parameters and Arguments in pandas , shift+Tab will open the documentation"
   ]
  },
  {
   "cell_type": "code",
   "execution_count": 21,
   "id": "6840923c",
   "metadata": {},
   "outputs": [
    {
     "data": {
      "text/plain": [
       "Monday        Apple\n",
       "Tuesday       Mango\n",
       "Wednesday    Banana\n",
       "Thursday     Orange\n",
       "Friday        Guava\n",
       "dtype: object"
      ]
     },
     "execution_count": 21,
     "metadata": {},
     "output_type": "execute_result"
    }
   ],
   "source": [
    "fruits = [\"Apple\",\"Mango\",\"Banana\",\"Orange\",\"Guava\"]\n",
    "weekdays = [\"Monday\",\"Tuesday\",\"Wednesday\",\"Thursday\",\"Friday\"]\n",
    "\n",
    "pd.Series(fruits,weekdays)"
   ]
  },
  {
   "cell_type": "code",
   "execution_count": 22,
   "id": "db5e2c1b",
   "metadata": {},
   "outputs": [
    {
     "data": {
      "text/plain": [
       "Monday        Apple\n",
       "Tuesday       Mango\n",
       "Wednesday    Banana\n",
       "Thursday     Orange\n",
       "Friday        Guava\n",
       "Monday        Kinoo\n",
       "dtype: object"
      ]
     },
     "execution_count": 22,
     "metadata": {},
     "output_type": "execute_result"
    }
   ],
   "source": [
    "# Repetation of data\n",
    "fruits = [\"Apple\",\"Mango\",\"Banana\",\"Orange\",\"Guava\",\"Kinoo\"]\n",
    "weekdays = [\"Monday\",\"Tuesday\",\"Wednesday\",\"Thursday\",\"Friday\",\"Monday\"]\n",
    "\n",
    "pd.Series(data = fruits,index = weekdays)"
   ]
  },
  {
   "cell_type": "markdown",
   "id": "67e890c9",
   "metadata": {},
   "source": [
    "# Reading the data from origin csv"
   ]
  },
  {
   "cell_type": "code",
   "execution_count": 25,
   "id": "7c12a598",
   "metadata": {},
   "outputs": [
    {
     "name": "stdout",
     "output_type": "stream",
     "text": [
      "0                  Bulbasaur\n",
      "1                    Ivysaur\n",
      "2                   Venusaur\n",
      "3      VenusaurMega Venusaur\n",
      "4                 Charmander\n",
      "               ...          \n",
      "795                  Diancie\n",
      "796      DiancieMega Diancie\n",
      "797      HoopaHoopa Confined\n",
      "798       HoopaHoopa Unbound\n",
      "799                Volcanion\n",
      "Name: Name, Length: 800, dtype: object\n"
     ]
    }
   ],
   "source": [
    "pokemon = pd.read_csv(\"pokemon.csv\",usecols=[\"Name\"],squeeze=True)\n",
    "print(pokemon)"
   ]
  },
  {
   "cell_type": "code",
   "execution_count": null,
   "id": "684d503f",
   "metadata": {},
   "outputs": [],
   "source": []
  }
 ],
 "metadata": {
  "kernelspec": {
   "display_name": "Python 3",
   "language": "python",
   "name": "python3"
  },
  "language_info": {
   "codemirror_mode": {
    "name": "ipython",
    "version": 3
   },
   "file_extension": ".py",
   "mimetype": "text/x-python",
   "name": "python",
   "nbconvert_exporter": "python",
   "pygments_lexer": "ipython3",
   "version": "3.9.4"
  }
 },
 "nbformat": 4,
 "nbformat_minor": 5
}
