{
 "cells": [
  {
   "cell_type": "markdown",
   "id": "bb829ac5",
   "metadata": {},
   "source": [
    "# Series is an object of pandas"
   ]
  },
  {
   "cell_type": "code",
   "execution_count": 1,
   "id": "ae8d1160",
   "metadata": {},
   "outputs": [],
   "source": [
    "import pandas as pd"
   ]
  },
  {
   "cell_type": "code",
   "execution_count": 4,
   "id": "bf4cc2de",
   "metadata": {},
   "outputs": [
    {
     "data": {
      "text/plain": [
       "0      Chocolate\n",
       "1        Vanilla\n",
       "2     Strawberry\n",
       "3    Tooti fruti\n",
       "dtype: object"
      ]
     },
     "execution_count": 4,
     "metadata": {},
     "output_type": "execute_result"
    }
   ],
   "source": [
    "# Creating a series of list \n",
    "ice_cream = [\"Chocolate\",\"Vanilla\",\"Strawberry\",\"Tooti fruti\"]\n",
    "pd.Series(ice_cream) # remember S not s"
   ]
  },
  {
   "cell_type": "code",
   "execution_count": 6,
   "id": "c2d4af18",
   "metadata": {},
   "outputs": [
    {
     "data": {
      "text/plain": [
       "0     1\n",
       "1     2\n",
       "2     3\n",
       "3     4\n",
       "4     5\n",
       "5     6\n",
       "6     7\n",
       "7     8\n",
       "8     9\n",
       "9    10\n",
       "dtype: int64"
      ]
     },
     "execution_count": 6,
     "metadata": {},
     "output_type": "execute_result"
    }
   ],
   "source": [
    "nums = [1,2,3,4,5,6,7,8,9,10]\n",
    "pd.Series(nums)"
   ]
  },
  {
   "cell_type": "code",
   "execution_count": 8,
   "id": "b9b820cf",
   "metadata": {},
   "outputs": [
    {
     "data": {
      "text/plain": [
       "Aardvark    An Animal\n",
       "Banana        A Fruit\n",
       "Cyan            color\n",
       "dtype: object"
      ]
     },
     "execution_count": 8,
     "metadata": {},
     "output_type": "execute_result"
    }
   ],
   "source": [
    "# Using dictionaries as pandas series , here the index levels are replaced by the keys\n",
    "webster = {\"Aardvark\":\"An Animal\",\n",
    "            \"Banana\":\"A Fruit\",\n",
    "           \"Cyan\":\"color\"\n",
    "          }\n",
    "pd.Series(webster)"
   ]
  },
  {
   "cell_type": "code",
   "execution_count": 9,
   "id": "b2c60ef7",
   "metadata": {},
   "outputs": [],
   "source": [
    "# Intro to Atribute\n",
    "about_me = [\"Smart\",\"Handsome\",\"Charming\",\"Brilliant\",\"Humble\"]\n",
    "abt_me = pd.Series(about_me)"
   ]
  },
  {
   "cell_type": "markdown",
   "id": "84344ab7",
   "metadata": {},
   "source": [
    "# Attributes does not need ()"
   ]
  },
  {
   "cell_type": "code",
   "execution_count": 14,
   "id": "3dcdb92f",
   "metadata": {},
   "outputs": [
    {
     "data": {
      "text/plain": [
       "array(['Smart', 'Handsome', 'Charming', 'Brilliant', 'Humble'],\n",
       "      dtype=object)"
      ]
     },
     "execution_count": 14,
     "metadata": {},
     "output_type": "execute_result"
    }
   ],
   "source": [
    "abt_me.values"
   ]
  },
  {
   "cell_type": "code",
   "execution_count": 15,
   "id": "1dd98612",
   "metadata": {},
   "outputs": [
    {
     "data": {
      "text/plain": [
       "RangeIndex(start=0, stop=5, step=1)"
      ]
     },
     "execution_count": 15,
     "metadata": {},
     "output_type": "execute_result"
    }
   ],
   "source": [
    "abt_me.index"
   ]
  },
  {
   "cell_type": "code",
   "execution_count": 16,
   "id": "ec8576a4",
   "metadata": {},
   "outputs": [],
   "source": [
    "# Methods that are availble in Series object"
   ]
  },
  {
   "cell_type": "code",
   "execution_count": 18,
   "id": "17e9c84a",
   "metadata": {},
   "outputs": [
    {
     "data": {
      "text/plain": [
       "5830.715999999999"
      ]
     },
     "execution_count": 18,
     "metadata": {},
     "output_type": "execute_result"
    }
   ],
   "source": [
    "prices = [56.23,5689.256,85.23]\n",
    "price = pd.Series(prices)\n",
    "price.sum()"
   ]
  },
  {
   "cell_type": "code",
   "execution_count": 19,
   "id": "2688bf33",
   "metadata": {},
   "outputs": [
    {
     "data": {
      "text/plain": [
       "1943.572"
      ]
     },
     "execution_count": 19,
     "metadata": {},
     "output_type": "execute_result"
    }
   ],
   "source": [
    "price.mean()"
   ]
  },
  {
   "cell_type": "code",
   "execution_count": null,
   "id": "ab84c14d",
   "metadata": {},
   "outputs": [],
   "source": []
  }
 ],
 "metadata": {
  "kernelspec": {
   "display_name": "Python 3",
   "language": "python",
   "name": "python3"
  },
  "language_info": {
   "codemirror_mode": {
    "name": "ipython",
    "version": 3
   },
   "file_extension": ".py",
   "mimetype": "text/x-python",
   "name": "python",
   "nbconvert_exporter": "python",
   "pygments_lexer": "ipython3",
   "version": "3.9.4"
  }
 },
 "nbformat": 4,
 "nbformat_minor": 5
}
